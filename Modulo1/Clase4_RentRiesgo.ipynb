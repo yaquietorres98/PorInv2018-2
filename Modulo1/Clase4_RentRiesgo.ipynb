{
 "cells": [
  {
   "cell_type": "markdown",
   "metadata": {},
   "source": [
    "# Rentabilidad vs. Riesgo. ¿Cómo medirlos?\n",
    "\n",
    "<img style=\"float: left; margin: 15px 15px 15px 15px;\" src=\"http://www.creative-commons-images.com/clipboard/images/return-on-investment.jpg\" width=\"300\" height=\"100\" />\n",
    "<img style=\"float: right; margin: 15px 15px 15px 15px;\" src=\"https://upload.wikimedia.org/wikipedia/commons/5/5a/Risk-dice-example.jpg\" title=\"github\" width=\"300\" height=\"100\" />"
   ]
  },
  {
   "cell_type": "markdown",
   "metadata": {},
   "source": [
    "> En mercados competitivos, **rendimientos esperados** más altos solo se dan a un precio: necesitas asumir un **riesgo** mayor.\n",
    "\n",
    "*Objetivos:*\n",
    "- Entender el concepto de riesgo.\n",
    "- Entender el concepto de rendimiento esperado.\n",
    "- Desarrollar medidas cuantitativas de rendimiento y medidas de riesgo para activos, conociendo la distribución de probabilidad de los posibles eventos en el mercado."
   ]
  },
  {
   "cell_type": "code",
   "execution_count": null,
   "metadata": {},
   "outputs": [],
   "source": []
  },
  {
   "cell_type": "code",
   "execution_count": null,
   "metadata": {},
   "outputs": [],
   "source": []
  },
  {
   "cell_type": "code",
   "execution_count": null,
   "metadata": {},
   "outputs": [],
   "source": []
  },
  {
   "cell_type": "code",
   "execution_count": null,
   "metadata": {},
   "outputs": [],
   "source": []
  },
  {
   "cell_type": "code",
   "execution_count": null,
   "metadata": {},
   "outputs": [],
   "source": []
  },
  {
   "cell_type": "code",
   "execution_count": null,
   "metadata": {},
   "outputs": [],
   "source": []
  },
  {
   "cell_type": "markdown",
   "metadata": {},
   "source": [
    "# Recordar quiz la siguiente clase"
   ]
  },
  {
   "cell_type": "markdown",
   "metadata": {},
   "source": [
    "<script>\n",
    "  $(document).ready(function(){\n",
    "    $('div.prompt').hide();\n",
    "    $('div.back-to-top').hide();\n",
    "    $('nav#menubar').hide();\n",
    "    $('.breadcrumb').hide();\n",
    "    $('.hidden-print').hide();\n",
    "  });\n",
    "</script>\n",
    "\n",
    "<footer id=\"attribution\" style=\"float:right; color:#808080; background:#fff;\">\n",
    "Created with Jupyter by Esteban Jiménez Rodríguez.\n",
    "</footer>"
   ]
  }
 ],
 "metadata": {
  "kernelspec": {
   "display_name": "Python 3",
   "language": "python",
   "name": "python3"
  },
  "language_info": {
   "codemirror_mode": {
    "name": "ipython",
    "version": 3
   },
   "file_extension": ".py",
   "mimetype": "text/x-python",
   "name": "python",
   "nbconvert_exporter": "python",
   "pygments_lexer": "ipython3",
   "version": "3.6.4"
  }
 },
 "nbformat": 4,
 "nbformat_minor": 2
}
